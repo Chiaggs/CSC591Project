{
  "nbformat": 4,
  "nbformat_minor": 0,
  "metadata": {
    "colab": {
      "name": "Easylist miner.ipynb",
      "provenance": [],
      "collapsed_sections": [],
      "include_colab_link": true
    },
    "kernelspec": {
      "name": "python3",
      "display_name": "Python 3"
    }
  },
  "cells": [
    {
      "cell_type": "markdown",
      "metadata": {
        "id": "view-in-github",
        "colab_type": "text"
      },
      "source": [
        "<a href=\"https://colab.research.google.com/github/Chiaggs/CSC591_Project/blob/master/Easylist_miner.ipynb\" target=\"_parent\"><img src=\"https://colab.research.google.com/assets/colab-badge.svg\" alt=\"Open In Colab\"/></a>"
      ]
    },
    {
      "cell_type": "markdown",
      "metadata": {
        "id": "DXIjQBL1Svut",
        "colab_type": "text"
      },
      "source": [
        "### Code To Import Drive Access"
      ]
    },
    {
      "cell_type": "code",
      "metadata": {
        "id": "kYDhZxcYNklM",
        "colab_type": "code",
        "outputId": "f92aa29b-fcb6-4c49-bdce-32a9f02e18df",
        "colab": {
          "base_uri": "https://localhost:8080/",
          "height": 122
        }
      },
      "source": [
        "from google.colab import drive\n",
        "drive.mount('/content/drive')"
      ],
      "execution_count": 0,
      "outputs": [
        {
          "output_type": "stream",
          "text": [
            "Go to this URL in a browser: https://accounts.google.com/o/oauth2/auth?client_id=947318989803-6bn6qk8qdgf4n4g3pfee6491hc0brc4i.apps.googleusercontent.com&redirect_uri=urn%3aietf%3awg%3aoauth%3a2.0%3aoob&response_type=code&scope=email%20https%3a%2f%2fwww.googleapis.com%2fauth%2fdocs.test%20https%3a%2f%2fwww.googleapis.com%2fauth%2fdrive%20https%3a%2f%2fwww.googleapis.com%2fauth%2fdrive.photos.readonly%20https%3a%2f%2fwww.googleapis.com%2fauth%2fpeopleapi.readonly\n",
            "\n",
            "Enter your authorization code:\n",
            "··········\n",
            "Mounted at /content/drive\n"
          ],
          "name": "stdout"
        }
      ]
    },
    {
      "cell_type": "markdown",
      "metadata": {
        "id": "5CZPugW2S3vW",
        "colab_type": "text"
      },
      "source": [
        "### Code To specify path and create Dataframe"
      ]
    },
    {
      "cell_type": "code",
      "metadata": {
        "id": "DPsWloeTSuSc",
        "colab_type": "code",
        "outputId": "dbdcbd36-9f8e-4991-8687-41508882f599",
        "colab": {
          "base_uri": "https://localhost:8080/",
          "height": 51
        }
      },
      "source": [
        "import pandas as pd\n",
        "\n",
        "DATA_PATH = '/content/drive/My Drive/Privacy_Project/EasyList_Files_To_Mine/easylist_whitelist_general_hide.txt'\n",
        "data = pd.read_fwf(DATA_PATH)\n",
        "data_Lines = 0\n",
        "l = set()\n",
        "for index, rows in data.iterrows():\n",
        "  data_Lines += 1\n",
        "  value = rows.str.split('.')\n",
        "  l.add(value[0][0])\n",
        "print(data_Lines)\n",
        "\n",
        "set_lines = 0\n",
        "for eahc_val in l:\n",
        "  set_lines += 1\n",
        "\n",
        "print(set_lines)\n"
      ],
      "execution_count": 0,
      "outputs": [
        {
          "output_type": "stream",
          "text": [
            "719\n",
            "583\n"
          ],
          "name": "stdout"
        }
      ]
    }
  ]
}